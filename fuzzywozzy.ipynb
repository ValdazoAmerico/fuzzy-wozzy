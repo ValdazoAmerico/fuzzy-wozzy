{
  "nbformat": 4,
  "nbformat_minor": 0,
  "metadata": {
    "colab": {
      "name": "fuzzywozzy.ipynb",
      "provenance": [],
      "collapsed_sections": [],
      "authorship_tag": "ABX9TyPukMIOf5mnnC1sr16oag39",
      "include_colab_link": true
    },
    "kernelspec": {
      "name": "python3",
      "display_name": "Python 3"
    },
    "language_info": {
      "name": "python"
    }
  },
  "cells": [
    {
      "cell_type": "markdown",
      "metadata": {
        "id": "view-in-github",
        "colab_type": "text"
      },
      "source": [
        "<a href=\"https://colab.research.google.com/github/ValdazoAmerico/fuzzy-wozzy/blob/main/fuzzywozzy.ipynb\" target=\"_parent\"><img src=\"https://colab.research.google.com/assets/colab-badge.svg\" alt=\"Open In Colab\"/></a>"
      ]
    },
    {
      "cell_type": "code",
      "metadata": {
        "colab": {
          "base_uri": "https://localhost:8080/"
        },
        "id": "pg-So_KRjOnx",
        "outputId": "498ee192-3cb2-4c6f-9430-1432280caff6"
      },
      "source": [
        "pip install fuzzywuzzy"
      ],
      "execution_count": 1,
      "outputs": [
        {
          "output_type": "stream",
          "text": [
            "Collecting fuzzywuzzy\n",
            "  Downloading https://files.pythonhosted.org/packages/43/ff/74f23998ad2f93b945c0309f825be92e04e0348e062026998b5eefef4c33/fuzzywuzzy-0.18.0-py2.py3-none-any.whl\n",
            "Installing collected packages: fuzzywuzzy\n",
            "Successfully installed fuzzywuzzy-0.18.0\n"
          ],
          "name": "stdout"
        }
      ]
    },
    {
      "cell_type": "code",
      "metadata": {
        "colab": {
          "base_uri": "https://localhost:8080/"
        },
        "id": "UnfxK3m5jham",
        "outputId": "0a54a4e0-f2c1-4537-d2fe-e875b4f711eb"
      },
      "source": [
        "from fuzzywuzzy importu process"
      ],
      "execution_count": 2,
      "outputs": [
        {
          "output_type": "stream",
          "text": [
            "/usr/local/lib/python3.7/dist-packages/fuzzywuzzy/fuzz.py:11: UserWarning: Using slow pure-python SequenceMatcher. Install python-Levenshtein to remove this warning\n",
            "  warnings.warn('Using slow pure-python SequenceMatcher. Install python-Levenshtein to remove this warning')\n"
          ],
          "name": "stderr"
        }
      ]
    },
    {
      "cell_type": "code",
      "metadata": {
        "id": "oqThPXM-joq2"
      },
      "source": [
        "ok={\"Mexico\",\"Argentina\",\"Chile\",\"Ecuador\"}\n",
        "usuario=\"mexco\"\n",
        "aprox=process.extractOne(usuario,ok)"
      ],
      "execution_count": 3,
      "outputs": []
    },
    {
      "cell_type": "code",
      "metadata": {
        "colab": {
          "base_uri": "https://localhost:8080/"
        },
        "id": "zd0U028smH-a",
        "outputId": "c1a22d98-60b2-47a0-c422-ce0b8a67adce"
      },
      "source": [
        "aprox"
      ],
      "execution_count": 6,
      "outputs": [
        {
          "output_type": "execute_result",
          "data": {
            "text/plain": [
              "('Mexico', 91)"
            ]
          },
          "metadata": {
            "tags": []
          },
          "execution_count": 6
        }
      ]
    },
    {
      "cell_type": "code",
      "metadata": {
        "colab": {
          "base_uri": "https://localhost:8080/",
          "height": 452
        },
        "id": "U4kkfe_zj7gT",
        "outputId": "90a2821c-d085-44dd-ffb8-eede33425597"
      },
      "source": [
        "import pandas as pd\n",
        "df=pd.read_csv('wuzy.csv')\n",
        "df"
      ],
      "execution_count": 5,
      "outputs": [
        {
          "output_type": "execute_result",
          "data": {
            "text/html": [
              "<div>\n",
              "<style scoped>\n",
              "    .dataframe tbody tr th:only-of-type {\n",
              "        vertical-align: middle;\n",
              "    }\n",
              "\n",
              "    .dataframe tbody tr th {\n",
              "        vertical-align: top;\n",
              "    }\n",
              "\n",
              "    .dataframe thead th {\n",
              "        text-align: right;\n",
              "    }\n",
              "</style>\n",
              "<table border=\"1\" class=\"dataframe\">\n",
              "  <thead>\n",
              "    <tr style=\"text-align: right;\">\n",
              "      <th></th>\n",
              "      <th>mal</th>\n",
              "      <th>bien</th>\n",
              "    </tr>\n",
              "  </thead>\n",
              "  <tbody>\n",
              "    <tr>\n",
              "      <th>0</th>\n",
              "      <td>Ags.</td>\n",
              "      <td>Aguascalientes</td>\n",
              "    </tr>\n",
              "    <tr>\n",
              "      <th>1</th>\n",
              "      <td>Aguascalientits</td>\n",
              "      <td>Baja California</td>\n",
              "    </tr>\n",
              "    <tr>\n",
              "      <th>2</th>\n",
              "      <td>CampEchE</td>\n",
              "      <td>Baja California Sur</td>\n",
              "    </tr>\n",
              "    <tr>\n",
              "      <th>3</th>\n",
              "      <td>Coliiima</td>\n",
              "      <td>Campeche</td>\n",
              "    </tr>\n",
              "    <tr>\n",
              "      <th>4</th>\n",
              "      <td>ChiaPs</td>\n",
              "      <td>Coahuila de Zaragoza</td>\n",
              "    </tr>\n",
              "    <tr>\n",
              "      <th>5</th>\n",
              "      <td>Chiuhahua</td>\n",
              "      <td>Colima</td>\n",
              "    </tr>\n",
              "    <tr>\n",
              "      <th>6</th>\n",
              "      <td>duranG</td>\n",
              "      <td>Chiapas</td>\n",
              "    </tr>\n",
              "    <tr>\n",
              "      <th>7</th>\n",
              "      <td>Guanajauto</td>\n",
              "      <td>Chihuahua</td>\n",
              "    </tr>\n",
              "    <tr>\n",
              "      <th>8</th>\n",
              "      <td>NaN</td>\n",
              "      <td>Distrito Federal</td>\n",
              "    </tr>\n",
              "    <tr>\n",
              "      <th>9</th>\n",
              "      <td>NaN</td>\n",
              "      <td>Durango</td>\n",
              "    </tr>\n",
              "    <tr>\n",
              "      <th>10</th>\n",
              "      <td>NaN</td>\n",
              "      <td>Guanajuato</td>\n",
              "    </tr>\n",
              "    <tr>\n",
              "      <th>11</th>\n",
              "      <td>NaN</td>\n",
              "      <td>Guerrero</td>\n",
              "    </tr>\n",
              "    <tr>\n",
              "      <th>12</th>\n",
              "      <td>NaN</td>\n",
              "      <td>Hidalgo</td>\n",
              "    </tr>\n",
              "  </tbody>\n",
              "</table>\n",
              "</div>"
            ],
            "text/plain": [
              "                mal                  bien\n",
              "0              Ags.        Aguascalientes\n",
              "1   Aguascalientits       Baja California\n",
              "2          CampEchE   Baja California Sur\n",
              "3          Coliiima              Campeche\n",
              "4            ChiaPs  Coahuila de Zaragoza\n",
              "5         Chiuhahua                Colima\n",
              "6            duranG               Chiapas\n",
              "7        Guanajauto             Chihuahua\n",
              "8               NaN      Distrito Federal\n",
              "9               NaN               Durango\n",
              "10              NaN            Guanajuato\n",
              "11              NaN              Guerrero\n",
              "12              NaN               Hidalgo"
            ]
          },
          "metadata": {
            "tags": []
          },
          "execution_count": 5
        }
      ]
    },
    {
      "cell_type": "code",
      "metadata": {
        "id": "V_0ngzHwlYTS"
      },
      "source": [
        "nombres = []\n",
        "proporcion = []\n",
        "def cambios(mal,bien):\n",
        "  for i in mal:\n",
        "    x=process.extractOne(i, bien)\n",
        "    nombres.append(x[0])\n",
        "    proporcion.append(x[1])\n",
        "  return nombres, proporcion"
      ],
      "execution_count": 16,
      "outputs": []
    },
    {
      "cell_type": "code",
      "metadata": {
        "id": "Vv7qn1AkmKAd"
      },
      "source": [
        "mal = df['mal'].dropna().values"
      ],
      "execution_count": 8,
      "outputs": []
    },
    {
      "cell_type": "code",
      "metadata": {
        "colab": {
          "base_uri": "https://localhost:8080/"
        },
        "id": "bzsRc2iZmNob",
        "outputId": "cd050568-a73d-4b4a-e2fd-1c883a38d955"
      },
      "source": [
        "mal"
      ],
      "execution_count": 10,
      "outputs": [
        {
          "output_type": "execute_result",
          "data": {
            "text/plain": [
              "array(['Ags.', 'Aguascalientits', 'CampEchE', 'Coliiima', 'ChiaPs',\n",
              "       'Chiuhahua', 'duranG', 'Guanajauto'], dtype=object)"
            ]
          },
          "metadata": {
            "tags": []
          },
          "execution_count": 10
        }
      ]
    },
    {
      "cell_type": "code",
      "metadata": {
        "id": "X-DrCYk7mN5T"
      },
      "source": [
        "bien=df['bien'].dropna().values"
      ],
      "execution_count": 12,
      "outputs": []
    },
    {
      "cell_type": "code",
      "metadata": {
        "colab": {
          "base_uri": "https://localhost:8080/"
        },
        "id": "IZep8WPmmVy8",
        "outputId": "ff8fe1ab-65ad-4f5b-eea7-753a1997ee82"
      },
      "source": [
        "bien"
      ],
      "execution_count": 14,
      "outputs": [
        {
          "output_type": "execute_result",
          "data": {
            "text/plain": [
              "array(['Aguascalientes', 'Baja California', 'Baja California Sur',\n",
              "       'Campeche', 'Coahuila de Zaragoza', 'Colima', 'Chiapas',\n",
              "       'Chihuahua', 'Distrito Federal', 'Durango', 'Guanajuato',\n",
              "       'Guerrero', 'Hidalgo'], dtype=object)"
            ]
          },
          "metadata": {
            "tags": []
          },
          "execution_count": 14
        }
      ]
    },
    {
      "cell_type": "code",
      "metadata": {
        "id": "88zcZyFwmZCT"
      },
      "source": [
        "corregido, rango = cambios(mal, bien)"
      ],
      "execution_count": 17,
      "outputs": []
    },
    {
      "cell_type": "code",
      "metadata": {
        "id": "Up2BKeDomdqo"
      },
      "source": [
        "df['correction'] = pd.Series(corregido)"
      ],
      "execution_count": 19,
      "outputs": []
    },
    {
      "cell_type": "code",
      "metadata": {
        "id": "9-PsnGeEmuNd"
      },
      "source": [
        "df['ratiom'] = pd.Series(rango)"
      ],
      "execution_count": 21,
      "outputs": []
    },
    {
      "cell_type": "code",
      "metadata": {
        "colab": {
          "base_uri": "https://localhost:8080/",
          "height": 452
        },
        "id": "ryUPEih_mg1V",
        "outputId": "d734aee4-58a1-4431-fa1e-070437912ef2"
      },
      "source": [
        "df"
      ],
      "execution_count": 22,
      "outputs": [
        {
          "output_type": "execute_result",
          "data": {
            "text/html": [
              "<div>\n",
              "<style scoped>\n",
              "    .dataframe tbody tr th:only-of-type {\n",
              "        vertical-align: middle;\n",
              "    }\n",
              "\n",
              "    .dataframe tbody tr th {\n",
              "        vertical-align: top;\n",
              "    }\n",
              "\n",
              "    .dataframe thead th {\n",
              "        text-align: right;\n",
              "    }\n",
              "</style>\n",
              "<table border=\"1\" class=\"dataframe\">\n",
              "  <thead>\n",
              "    <tr style=\"text-align: right;\">\n",
              "      <th></th>\n",
              "      <th>mal</th>\n",
              "      <th>bien</th>\n",
              "      <th>correction</th>\n",
              "      <th>ratiom</th>\n",
              "    </tr>\n",
              "  </thead>\n",
              "  <tbody>\n",
              "    <tr>\n",
              "      <th>0</th>\n",
              "      <td>Ags.</td>\n",
              "      <td>Aguascalientes</td>\n",
              "      <td>Aguascalientes</td>\n",
              "      <td>60.0</td>\n",
              "    </tr>\n",
              "    <tr>\n",
              "      <th>1</th>\n",
              "      <td>Aguascalientits</td>\n",
              "      <td>Baja California</td>\n",
              "      <td>Aguascalientes</td>\n",
              "      <td>90.0</td>\n",
              "    </tr>\n",
              "    <tr>\n",
              "      <th>2</th>\n",
              "      <td>CampEchE</td>\n",
              "      <td>Baja California Sur</td>\n",
              "      <td>Campeche</td>\n",
              "      <td>100.0</td>\n",
              "    </tr>\n",
              "    <tr>\n",
              "      <th>3</th>\n",
              "      <td>Coliiima</td>\n",
              "      <td>Campeche</td>\n",
              "      <td>Colima</td>\n",
              "      <td>86.0</td>\n",
              "    </tr>\n",
              "    <tr>\n",
              "      <th>4</th>\n",
              "      <td>ChiaPs</td>\n",
              "      <td>Coahuila de Zaragoza</td>\n",
              "      <td>Chiapas</td>\n",
              "      <td>92.0</td>\n",
              "    </tr>\n",
              "    <tr>\n",
              "      <th>5</th>\n",
              "      <td>Chiuhahua</td>\n",
              "      <td>Colima</td>\n",
              "      <td>Chihuahua</td>\n",
              "      <td>89.0</td>\n",
              "    </tr>\n",
              "    <tr>\n",
              "      <th>6</th>\n",
              "      <td>duranG</td>\n",
              "      <td>Chiapas</td>\n",
              "      <td>Durango</td>\n",
              "      <td>92.0</td>\n",
              "    </tr>\n",
              "    <tr>\n",
              "      <th>7</th>\n",
              "      <td>Guanajauto</td>\n",
              "      <td>Chihuahua</td>\n",
              "      <td>Guanajuato</td>\n",
              "      <td>90.0</td>\n",
              "    </tr>\n",
              "    <tr>\n",
              "      <th>8</th>\n",
              "      <td>NaN</td>\n",
              "      <td>Distrito Federal</td>\n",
              "      <td>NaN</td>\n",
              "      <td>NaN</td>\n",
              "    </tr>\n",
              "    <tr>\n",
              "      <th>9</th>\n",
              "      <td>NaN</td>\n",
              "      <td>Durango</td>\n",
              "      <td>NaN</td>\n",
              "      <td>NaN</td>\n",
              "    </tr>\n",
              "    <tr>\n",
              "      <th>10</th>\n",
              "      <td>NaN</td>\n",
              "      <td>Guanajuato</td>\n",
              "      <td>NaN</td>\n",
              "      <td>NaN</td>\n",
              "    </tr>\n",
              "    <tr>\n",
              "      <th>11</th>\n",
              "      <td>NaN</td>\n",
              "      <td>Guerrero</td>\n",
              "      <td>NaN</td>\n",
              "      <td>NaN</td>\n",
              "    </tr>\n",
              "    <tr>\n",
              "      <th>12</th>\n",
              "      <td>NaN</td>\n",
              "      <td>Hidalgo</td>\n",
              "      <td>NaN</td>\n",
              "      <td>NaN</td>\n",
              "    </tr>\n",
              "  </tbody>\n",
              "</table>\n",
              "</div>"
            ],
            "text/plain": [
              "                mal                  bien      correction  ratiom\n",
              "0              Ags.        Aguascalientes  Aguascalientes    60.0\n",
              "1   Aguascalientits       Baja California  Aguascalientes    90.0\n",
              "2          CampEchE   Baja California Sur        Campeche   100.0\n",
              "3          Coliiima              Campeche          Colima    86.0\n",
              "4            ChiaPs  Coahuila de Zaragoza         Chiapas    92.0\n",
              "5         Chiuhahua                Colima       Chihuahua    89.0\n",
              "6            duranG               Chiapas         Durango    92.0\n",
              "7        Guanajauto             Chihuahua      Guanajuato    90.0\n",
              "8               NaN      Distrito Federal             NaN     NaN\n",
              "9               NaN               Durango             NaN     NaN\n",
              "10              NaN            Guanajuato             NaN     NaN\n",
              "11              NaN              Guerrero             NaN     NaN\n",
              "12              NaN               Hidalgo             NaN     NaN"
            ]
          },
          "metadata": {
            "tags": []
          },
          "execution_count": 22
        }
      ]
    },
    {
      "cell_type": "code",
      "metadata": {
        "id": "nEGDE0Lemkyx"
      },
      "source": [
        ""
      ],
      "execution_count": null,
      "outputs": []
    }
  ]
}